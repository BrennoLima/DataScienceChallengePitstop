{
 "cells": [
  {
   "cell_type": "markdown",
   "metadata": {},
   "source": [
    "# Data Science Challenge Part 1"
   ]
  },
  {
   "cell_type": "markdown",
   "metadata": {},
   "source": [
    "### Libraries"
   ]
  },
  {
   "cell_type": "code",
   "execution_count": 1,
   "metadata": {},
   "outputs": [],
   "source": [
    "import numpy as np\n",
    "import matplotlib.pyplot as plt\n",
    "import pandas as pd\n",
    "import seaborn as sns\n",
    "import warnings\n",
    "warnings.simplefilter(\"ignore\")"
   ]
  },
  {
   "cell_type": "markdown",
   "metadata": {},
   "source": [
    "# Analysis of the first data set"
   ]
  },
  {
   "cell_type": "markdown",
   "metadata": {},
   "source": [
    "### Importing data"
   ]
  },
  {
   "cell_type": "code",
   "execution_count": 2,
   "metadata": {},
   "outputs": [],
   "source": [
    "data0_x = pd.read_csv(\"data0x.csv\")\n",
    "data0_y = pd.read_csv(\"data0y.csv\")"
   ]
  },
  {
   "cell_type": "code",
   "execution_count": 3,
   "metadata": {},
   "outputs": [
    {
     "data": {
      "text/html": [
       "<div>\n",
       "<style scoped>\n",
       "    .dataframe tbody tr th:only-of-type {\n",
       "        vertical-align: middle;\n",
       "    }\n",
       "\n",
       "    .dataframe tbody tr th {\n",
       "        vertical-align: top;\n",
       "    }\n",
       "\n",
       "    .dataframe thead th {\n",
       "        text-align: right;\n",
       "    }\n",
       "</style>\n",
       "<table border=\"1\" class=\"dataframe\">\n",
       "  <thead>\n",
       "    <tr style=\"text-align: right;\">\n",
       "      <th></th>\n",
       "      <th>VAR1</th>\n",
       "      <th>VAR2</th>\n",
       "      <th>VAR3</th>\n",
       "      <th>Target</th>\n",
       "    </tr>\n",
       "  </thead>\n",
       "  <tbody>\n",
       "    <tr>\n",
       "      <th>0</th>\n",
       "      <td>8.337952</td>\n",
       "      <td>3.641021</td>\n",
       "      <td>7.700852</td>\n",
       "      <td>15.387785</td>\n",
       "    </tr>\n",
       "    <tr>\n",
       "      <th>1</th>\n",
       "      <td>7.903776</td>\n",
       "      <td>9.072297</td>\n",
       "      <td>1.494045</td>\n",
       "      <td>8.247090</td>\n",
       "    </tr>\n",
       "    <tr>\n",
       "      <th>2</th>\n",
       "      <td>3.086317</td>\n",
       "      <td>7.566411</td>\n",
       "      <td>2.344412</td>\n",
       "      <td>-0.635292</td>\n",
       "    </tr>\n",
       "    <tr>\n",
       "      <th>3</th>\n",
       "      <td>5.361288</td>\n",
       "      <td>4.512669</td>\n",
       "      <td>6.066032</td>\n",
       "      <td>45.384992</td>\n",
       "    </tr>\n",
       "    <tr>\n",
       "      <th>4</th>\n",
       "      <td>3.393759</td>\n",
       "      <td>4.890710</td>\n",
       "      <td>9.493635</td>\n",
       "      <td>43.004314</td>\n",
       "    </tr>\n",
       "  </tbody>\n",
       "</table>\n",
       "</div>"
      ],
      "text/plain": [
       "       VAR1      VAR2      VAR3     Target\n",
       "0  8.337952  3.641021  7.700852  15.387785\n",
       "1  7.903776  9.072297  1.494045   8.247090\n",
       "2  3.086317  7.566411  2.344412  -0.635292\n",
       "3  5.361288  4.512669  6.066032  45.384992\n",
       "4  3.393759  4.890710  9.493635  43.004314"
      ]
     },
     "execution_count": 3,
     "metadata": {},
     "output_type": "execute_result"
    }
   ],
   "source": [
    "df0 = pd.concat([data0_x, data0_y], sort = False, axis = 1)\n",
    "df0.head()"
   ]
  },
  {
   "cell_type": "markdown",
   "metadata": {},
   "source": [
    "### Data visualization"
   ]
  },
  {
   "cell_type": "code",
   "execution_count": 4,
   "metadata": {
    "scrolled": true
   },
   "outputs": [
    {
     "data": {
      "text/html": [
       "<div>\n",
       "<style scoped>\n",
       "    .dataframe tbody tr th:only-of-type {\n",
       "        vertical-align: middle;\n",
       "    }\n",
       "\n",
       "    .dataframe tbody tr th {\n",
       "        vertical-align: top;\n",
       "    }\n",
       "\n",
       "    .dataframe thead th {\n",
       "        text-align: right;\n",
       "    }\n",
       "</style>\n",
       "<table border=\"1\" class=\"dataframe\">\n",
       "  <thead>\n",
       "    <tr style=\"text-align: right;\">\n",
       "      <th></th>\n",
       "      <th>VAR1</th>\n",
       "      <th>VAR2</th>\n",
       "      <th>VAR3</th>\n",
       "      <th>Target</th>\n",
       "    </tr>\n",
       "  </thead>\n",
       "  <tbody>\n",
       "    <tr>\n",
       "      <th>count</th>\n",
       "      <td>100.000000</td>\n",
       "      <td>100.000000</td>\n",
       "      <td>100.000000</td>\n",
       "      <td>100.000000</td>\n",
       "    </tr>\n",
       "    <tr>\n",
       "      <th>mean</th>\n",
       "      <td>5.145892</td>\n",
       "      <td>5.139932</td>\n",
       "      <td>4.741929</td>\n",
       "      <td>42.741255</td>\n",
       "    </tr>\n",
       "    <tr>\n",
       "      <th>std</th>\n",
       "      <td>2.858015</td>\n",
       "      <td>2.981142</td>\n",
       "      <td>3.329063</td>\n",
       "      <td>9.098350</td>\n",
       "    </tr>\n",
       "    <tr>\n",
       "      <th>min</th>\n",
       "      <td>-0.191760</td>\n",
       "      <td>-0.466070</td>\n",
       "      <td>-0.562067</td>\n",
       "      <td>-0.635292</td>\n",
       "    </tr>\n",
       "    <tr>\n",
       "      <th>25%</th>\n",
       "      <td>2.963851</td>\n",
       "      <td>2.517258</td>\n",
       "      <td>1.707078</td>\n",
       "      <td>38.403696</td>\n",
       "    </tr>\n",
       "    <tr>\n",
       "      <th>50%</th>\n",
       "      <td>5.519984</td>\n",
       "      <td>5.191480</td>\n",
       "      <td>4.966498</td>\n",
       "      <td>43.706151</td>\n",
       "    </tr>\n",
       "    <tr>\n",
       "      <th>75%</th>\n",
       "      <td>7.410148</td>\n",
       "      <td>7.503562</td>\n",
       "      <td>7.751413</td>\n",
       "      <td>49.423855</td>\n",
       "    </tr>\n",
       "    <tr>\n",
       "      <th>max</th>\n",
       "      <td>9.977110</td>\n",
       "      <td>9.988707</td>\n",
       "      <td>9.999932</td>\n",
       "      <td>58.750764</td>\n",
       "    </tr>\n",
       "  </tbody>\n",
       "</table>\n",
       "</div>"
      ],
      "text/plain": [
       "             VAR1        VAR2        VAR3      Target\n",
       "count  100.000000  100.000000  100.000000  100.000000\n",
       "mean     5.145892    5.139932    4.741929   42.741255\n",
       "std      2.858015    2.981142    3.329063    9.098350\n",
       "min     -0.191760   -0.466070   -0.562067   -0.635292\n",
       "25%      2.963851    2.517258    1.707078   38.403696\n",
       "50%      5.519984    5.191480    4.966498   43.706151\n",
       "75%      7.410148    7.503562    7.751413   49.423855\n",
       "max      9.977110    9.988707    9.999932   58.750764"
      ]
     },
     "execution_count": 4,
     "metadata": {},
     "output_type": "execute_result"
    }
   ],
   "source": [
    "df0.describe()"
   ]
  },
  {
   "cell_type": "code",
   "execution_count": 5,
   "metadata": {
    "scrolled": true
   },
   "outputs": [
    {
     "data": {
      "text/plain": [
       "<matplotlib.axes._subplots.AxesSubplot at 0x2942e9c6438>"
      ]
     },
     "execution_count": 5,
     "metadata": {},
     "output_type": "execute_result"
    },
    {
     "data": {
      "image/png": "[encoded data removed]",
      "text/plain": [
       "<Figure size 432x288 with 1 Axes>"
      ]
     },
     "metadata": {
      "needs_background": "light"
     },
     "output_type": "display_data"
    }
   ],
   "source": [
    "sns.distplot(df0['Target'], bins=20, color='b')"
   ]
  },
  {
   "cell_type": "markdown",
   "metadata": {},
   "source": [
    "## Task 1: assess the goodness of fit  of the regression model (Linear Regression)"
   ]
  },
  {
   "cell_type": "code",
   "execution_count": 6,
   "metadata": {},
   "outputs": [
    {
     "data": {
      "text/plain": [
       "LinearRegression(copy_X=True, fit_intercept=True, n_jobs=None, normalize=False)"
      ]
     },
     "execution_count": 6,
     "metadata": {},
     "output_type": "execute_result"
    }
   ],
   "source": [
    "from sklearn.linear_model import LinearRegression\n",
    "regressor = LinearRegression(fit_intercept=True)\n",
    "regressor.fit(data0_x, data0_y)"
   ]
  },
  {
   "cell_type": "code",
   "execution_count": 7,
   "metadata": {},
   "outputs": [
    {
     "name": "stdout",
     "output_type": "stream",
     "text": [
      "Cross_val_score accuracy: 0.76\n"
     ]
    }
   ],
   "source": [
    "from sklearn.model_selection import cross_val_score\n",
    "cross_val_score_accuracies = cross_val_score(estimator = regressor, X = data0_x, y = data0_y, cv = 10)\n",
    "print(\"Cross_val_score accuracy: %.2f\"% cross_val_score_accuracies.mean())\n",
    "cross_val_score_mean = cross_val_score_accuracies.mean()"
   ]
  },
  {
   "cell_type": "markdown",
   "metadata": {},
   "source": [
    "### Splitting the data to evaluate the model"
   ]
  },
  {
   "cell_type": "code",
   "execution_count": 8,
   "metadata": {},
   "outputs": [],
   "source": [
    "from sklearn.model_selection import train_test_split\n",
    "X_train, X_test, y_train, y_test = train_test_split(data0_x, data0_y, test_size = 0.2, random_state = 0)"
   ]
  },
  {
   "cell_type": "code",
   "execution_count": 9,
   "metadata": {},
   "outputs": [],
   "source": [
    "regressor.fit(X_train, y_train)\n",
    "y_pred = regressor.predict(X_test)"
   ]
  },
  {
   "cell_type": "code",
   "execution_count": 10,
   "metadata": {},
   "outputs": [],
   "source": [
    "from sklearn.metrics import r2_score, mean_squared_error\n",
    "r2 = r2_score(y_test, y_pred)\n",
    "mse = mean_squared_error(y_test, y_pred)"
   ]
  },
  {
   "cell_type": "code",
   "execution_count": 11,
   "metadata": {},
   "outputs": [
    {
     "data": {
      "text/html": [
       "<div>\n",
       "<style scoped>\n",
       "    .dataframe tbody tr th:only-of-type {\n",
       "        vertical-align: middle;\n",
       "    }\n",
       "\n",
       "    .dataframe tbody tr th {\n",
       "        vertical-align: top;\n",
       "    }\n",
       "\n",
       "    .dataframe thead th {\n",
       "        text-align: right;\n",
       "    }\n",
       "</style>\n",
       "<table border=\"1\" class=\"dataframe\">\n",
       "  <thead>\n",
       "    <tr style=\"text-align: right;\">\n",
       "      <th></th>\n",
       "      <th>Model</th>\n",
       "      <th>cross_val_score</th>\n",
       "      <th>r2 score</th>\n",
       "      <th>mse</th>\n",
       "    </tr>\n",
       "  </thead>\n",
       "  <tbody>\n",
       "    <tr>\n",
       "      <th>0</th>\n",
       "      <td>Linear Regression</td>\n",
       "      <td>0.763721</td>\n",
       "      <td>0.505202</td>\n",
       "      <td>70.121953</td>\n",
       "    </tr>\n",
       "  </tbody>\n",
       "</table>\n",
       "</div>"
      ],
      "text/plain": [
       "               Model  cross_val_score  r2 score        mse\n",
       "0  Linear Regression         0.763721  0.505202  70.121953"
      ]
     },
     "execution_count": 11,
     "metadata": {},
     "output_type": "execute_result"
    }
   ],
   "source": [
    "scoreFrame = pd.DataFrame([['Linear Regression', cross_val_score_mean, r2, mse]],\n",
    "                           columns = ['Model', 'cross_val_score', 'r2 score', 'mse'])\n",
    "scoreFrame"
   ]
  },
  {
   "cell_type": "markdown",
   "metadata": {},
   "source": [
    "### Evaluating a different model (Support Vector and Random Forest)"
   ]
  },
  {
   "cell_type": "code",
   "execution_count": 12,
   "metadata": {},
   "outputs": [],
   "source": [
    "# Support Vector\n",
    "from sklearn.svm import SVR                  # Import \n",
    "svrRegressor = SVR(kernel = 'rbf')           #\n",
    "svrRegressor.fit(X_train, y_train)           # Fit\n",
    "y_pred_svr = svrRegressor.predict(X_test)    # Predict"
   ]
  },
  {
   "cell_type": "code",
   "execution_count": 13,
   "metadata": {},
   "outputs": [],
   "source": [
    "# Evaluation\n",
    "cross_val_score_mean_svr = cross_val_score(estimator = svrRegressor, X = data0_x, y = data0_y, cv = 10).mean()\n",
    "r2_svr = r2_score(y_test, y_pred_svr)\n",
    "mse_svr = mean_squared_error(y_test, y_pred_svr)"
   ]
  },
  {
   "cell_type": "code",
   "execution_count": 14,
   "metadata": {},
   "outputs": [
    {
     "data": {
      "text/html": [
       "<div>\n",
       "<style scoped>\n",
       "    .dataframe tbody tr th:only-of-type {\n",
       "        vertical-align: middle;\n",
       "    }\n",
       "\n",
       "    .dataframe tbody tr th {\n",
       "        vertical-align: top;\n",
       "    }\n",
       "\n",
       "    .dataframe thead th {\n",
       "        text-align: right;\n",
       "    }\n",
       "</style>\n",
       "<table border=\"1\" class=\"dataframe\">\n",
       "  <thead>\n",
       "    <tr style=\"text-align: right;\">\n",
       "      <th></th>\n",
       "      <th>Model</th>\n",
       "      <th>cross_val_score</th>\n",
       "      <th>r2 score</th>\n",
       "      <th>mse</th>\n",
       "    </tr>\n",
       "  </thead>\n",
       "  <tbody>\n",
       "    <tr>\n",
       "      <th>0</th>\n",
       "      <td>Linear Regression</td>\n",
       "      <td>0.763721</td>\n",
       "      <td>0.505202</td>\n",
       "      <td>70.121953</td>\n",
       "    </tr>\n",
       "    <tr>\n",
       "      <th>1</th>\n",
       "      <td>Support Vector</td>\n",
       "      <td>0.079202</td>\n",
       "      <td>0.109215</td>\n",
       "      <td>126.240652</td>\n",
       "    </tr>\n",
       "  </tbody>\n",
       "</table>\n",
       "</div>"
      ],
      "text/plain": [
       "               Model  cross_val_score  r2 score         mse\n",
       "0  Linear Regression         0.763721  0.505202   70.121953\n",
       "1     Support Vector         0.079202  0.109215  126.240652"
      ]
     },
     "execution_count": 14,
     "metadata": {},
     "output_type": "execute_result"
    }
   ],
   "source": [
    "# Add to scoreFrame\n",
    "scoreFrame = scoreFrame.append({'Model': 'Support Vector', 'cross_val_score':cross_val_score_mean_svr,\n",
    "                  'r2 score': r2_svr, 'mse': mse_svr}, ignore_index = True)\n",
    "scoreFrame"
   ]
  },
  {
   "cell_type": "code",
   "execution_count": 15,
   "metadata": {},
   "outputs": [],
   "source": [
    "# Random Forest Regressor\n",
    "from sklearn.ensemble import RandomForestRegressor                # Import \n",
    "rfr = RandomForestRegressor(n_estimators = 10, random_state = 0)   #  \n",
    "rfr.fit(X_train, y_train)                                         # fit \n",
    "y_pred_rfr = rfr.predict(X_test)                                  # predict "
   ]
  },
  {
   "cell_type": "code",
   "execution_count": 16,
   "metadata": {},
   "outputs": [],
   "source": [
    "# Evaluation\n",
    "cross_val_score_mean_rfr = cross_val_score(estimator = rfr, X = data0_x, y = data0_y, cv = 10).mean()\n",
    "r2_rfr = r2_score(y_test, y_pred_rfr)\n",
    "mse_rfr = mean_squared_error(y_test, y_pred_rfr)"
   ]
  },
  {
   "cell_type": "code",
   "execution_count": 17,
   "metadata": {},
   "outputs": [],
   "source": [
    "# Add to scoreFrame\n",
    "scoreFrame = scoreFrame.append({'Model': 'Random Forest', 'cross_val_score':cross_val_score_mean_rfr,\n",
    "                  'r2 score': r2_rfr, 'mse': mse_rfr}, ignore_index = True)"
   ]
  },
  {
   "cell_type": "markdown",
   "metadata": {},
   "source": [
    "### Final evaluation"
   ]
  },
  {
   "cell_type": "code",
   "execution_count": 18,
   "metadata": {
    "scrolled": true
   },
   "outputs": [
    {
     "data": {
      "text/plain": [
       "<matplotlib.axes._subplots.AxesSubplot at 0x29430be7ef0>"
      ]
     },
     "execution_count": 18,
     "metadata": {},
     "output_type": "execute_result"
    },
    {
     "data": {
      "image/png": "[encoded data removed]",
      "text/plain": [
       "<Figure size 432x288 with 1 Axes>"
      ]
     },
     "metadata": {
      "needs_background": "light"
     },
     "output_type": "display_data"
    }
   ],
   "source": [
    "ax1 = sns.distplot(data0_y, color = 'r')\n",
    "sns.distplot(y_pred, color = 'b', ax = ax1)"
   ]
  },
  {
   "cell_type": "code",
   "execution_count": 19,
   "metadata": {
    "scrolled": true
   },
   "outputs": [
    {
     "data": {
      "text/plain": [
       "<matplotlib.axes._subplots.AxesSubplot at 0x29430cb35f8>"
      ]
     },
     "execution_count": 19,
     "metadata": {},
     "output_type": "execute_result"
    },
    {
     "data": {
      "image/png": "[encoded data removed]",
      "text/plain": [
       "<Figure size 432x288 with 1 Axes>"
      ]
     },
     "metadata": {
      "needs_background": "light"
     },
     "output_type": "display_data"
    }
   ],
   "source": [
    "ax1 = sns.distplot(data0_y, hist = False, color = 'r', label = 'Actual Values')\n",
    "sns.distplot(y_pred, hist = False, color = 'b', label = 'Fitted Values', ax = ax1)"
   ]
  },
  {
   "cell_type": "code",
   "execution_count": 20,
   "metadata": {},
   "outputs": [
    {
     "data": {
      "text/html": [
       "<div>\n",
       "<style scoped>\n",
       "    .dataframe tbody tr th:only-of-type {\n",
       "        vertical-align: middle;\n",
       "    }\n",
       "\n",
       "    .dataframe tbody tr th {\n",
       "        vertical-align: top;\n",
       "    }\n",
       "\n",
       "    .dataframe thead th {\n",
       "        text-align: right;\n",
       "    }\n",
       "</style>\n",
       "<table border=\"1\" class=\"dataframe\">\n",
       "  <thead>\n",
       "    <tr style=\"text-align: right;\">\n",
       "      <th></th>\n",
       "      <th>Model</th>\n",
       "      <th>cross_val_score</th>\n",
       "      <th>r2 score</th>\n",
       "      <th>mse</th>\n",
       "    </tr>\n",
       "  </thead>\n",
       "  <tbody>\n",
       "    <tr>\n",
       "      <th>0</th>\n",
       "      <td>Linear Regression</td>\n",
       "      <td>0.763721</td>\n",
       "      <td>0.505202</td>\n",
       "      <td>70.121953</td>\n",
       "    </tr>\n",
       "    <tr>\n",
       "      <th>1</th>\n",
       "      <td>Support Vector</td>\n",
       "      <td>0.079202</td>\n",
       "      <td>0.109215</td>\n",
       "      <td>126.240652</td>\n",
       "    </tr>\n",
       "    <tr>\n",
       "      <th>2</th>\n",
       "      <td>Random Forest</td>\n",
       "      <td>-0.149645</td>\n",
       "      <td>0.422958</td>\n",
       "      <td>81.777466</td>\n",
       "    </tr>\n",
       "  </tbody>\n",
       "</table>\n",
       "</div>"
      ],
      "text/plain": [
       "               Model  cross_val_score  r2 score         mse\n",
       "0  Linear Regression         0.763721  0.505202   70.121953\n",
       "1     Support Vector         0.079202  0.109215  126.240652\n",
       "2      Random Forest        -0.149645  0.422958   81.777466"
      ]
     },
     "execution_count": 20,
     "metadata": {},
     "output_type": "execute_result"
    }
   ],
   "source": [
    "scoreFrame"
   ]
  },
  {
   "cell_type": "code",
   "execution_count": 21,
   "metadata": {},
   "outputs": [
    {
     "name": "stdout",
     "output_type": "stream",
     "text": [
      "Coeficients of the Linear Regression: [[ 1.77038048 -0.60969338  0.58687348]] \n",
      "Constant: [34.20950744] \n"
     ]
    }
   ],
   "source": [
    "print(\"Coeficients of the Linear Regression: {} \" .format(regressor.coef_))\n",
    "print(\"Constant: {} \" .format(regressor.intercept_))"
   ]
  },
  {
   "cell_type": "markdown",
   "metadata": {},
   "source": [
    "# Task 2: are all the variables necessary?  why or why not? if not how would you eliminate variables?"
   ]
  },
  {
   "cell_type": "code",
   "execution_count": 22,
   "metadata": {},
   "outputs": [
    {
     "data": {
      "text/plain": [
       "<matplotlib.axes._subplots.AxesSubplot at 0x29430d69358>"
      ]
     },
     "execution_count": 22,
     "metadata": {},
     "output_type": "execute_result"
    },
    {
     "data": {
      "image/png": "[encoded data removed]",
      "text/plain": [
       "<Figure size 432x288 with 2 Axes>"
      ]
     },
     "metadata": {
      "needs_background": "light"
     },
     "output_type": "display_data"
    }
   ],
   "source": [
    "sns.heatmap(df0.corr(), vmin=-1, center = 0) \n",
    "# Looking at the heatmap, it looks like all the variables have a significant correlation with the target variable\n",
    "# positive correlated with var1 and var3. Negative correlated with var2                              "
   ]
  },
  {
   "cell_type": "markdown",
   "metadata": {},
   "source": [
    "### Adding a column of 1's to use the method of backward eliminations"
   ]
  },
  {
   "cell_type": "markdown",
   "metadata": {},
   "source": [
    "##### The Linear Regression is: y = C + ax1 + bx2 + cx3, in the data0_x, we have only the independent variables x1, x2, x3. It is necessary to add the  constant to use the method of backward elimination. The library doesn't do it automatically like sklearn does.  "
   ]
  },
  {
   "cell_type": "code",
   "execution_count": 23,
   "metadata": {},
   "outputs": [],
   "source": [
    "import statsmodels.api as sm\n",
    "data0_x = np.append(arr = np.ones((data0_x.shape[0], 1)).astype(int), values = data0_x, axis = 1)"
   ]
  },
  {
   "cell_type": "code",
   "execution_count": 24,
   "metadata": {},
   "outputs": [
    {
     "name": "stdout",
     "output_type": "stream",
     "text": [
      "[1.       8.337952 3.641021 7.700852]\n",
      "[1.       7.903776 9.072297 1.494045]\n",
      "[1.       3.086317 7.566411 2.344412]\n",
      "[1.       5.361288 4.512669 6.066032]\n",
      "[1.       3.393759 4.89071  9.493635]\n"
     ]
    }
   ],
   "source": [
    "for x in range(0,5):\n",
    "    print(data0_x[x])"
   ]
  },
  {
   "cell_type": "markdown",
   "metadata": {},
   "source": [
    "### Now the data has the correct format to use the statsmodels library"
   ]
  },
  {
   "cell_type": "code",
   "execution_count": 25,
   "metadata": {},
   "outputs": [
    {
     "data": {
      "text/html": [
       "<table class=\"simpletable\">\n",
       "<caption>OLS Regression Results</caption>\n",
       "<tr>\n",
       "  <th>Dep. Variable:</th>         <td>Target</td>      <th>  R-squared:         </th> <td>   0.506</td>\n",
       "</tr>\n",
       "<tr>\n",
       "  <th>Model:</th>                   <td>OLS</td>       <th>  Adj. R-squared:    </th> <td>   0.491</td>\n",
       "</tr>\n",
       "<tr>\n",
       "  <th>Method:</th>             <td>Least Squares</td>  <th>  F-statistic:       </th> <td>   32.84</td>\n",
       "</tr>\n",
       "<tr>\n",
       "  <th>Date:</th>             <td>Sat, 22 Feb 2020</td> <th>  Prob (F-statistic):</th> <td>1.08e-14</td>\n",
       "</tr>\n",
       "<tr>\n",
       "  <th>Time:</th>                 <td>14:03:57</td>     <th>  Log-Likelihood:    </th> <td> -326.89</td>\n",
       "</tr>\n",
       "<tr>\n",
       "  <th>No. Observations:</th>      <td>   100</td>      <th>  AIC:               </th> <td>   661.8</td>\n",
       "</tr>\n",
       "<tr>\n",
       "  <th>Df Residuals:</th>          <td>    96</td>      <th>  BIC:               </th> <td>   672.2</td>\n",
       "</tr>\n",
       "<tr>\n",
       "  <th>Df Model:</th>              <td>     3</td>      <th>                     </th>     <td> </td>   \n",
       "</tr>\n",
       "<tr>\n",
       "  <th>Covariance Type:</th>      <td>nonrobust</td>    <th>                     </th>     <td> </td>   \n",
       "</tr>\n",
       "</table>\n",
       "<table class=\"simpletable\">\n",
       "<tr>\n",
       "    <td></td>       <th>coef</th>     <th>std err</th>      <th>t</th>      <th>P>|t|</th>  <th>[0.025</th>    <th>0.975]</th>  \n",
       "</tr>\n",
       "<tr>\n",
       "  <th>const</th> <td>   33.3719</td> <td>    1.991</td> <td>   16.763</td> <td> 0.000</td> <td>   29.420</td> <td>   37.324</td>\n",
       "</tr>\n",
       "<tr>\n",
       "  <th>x1</th>    <td>    1.9122</td> <td>    0.229</td> <td>    8.336</td> <td> 0.000</td> <td>    1.457</td> <td>    2.368</td>\n",
       "</tr>\n",
       "<tr>\n",
       "  <th>x2</th>    <td>   -0.6934</td> <td>    0.221</td> <td>   -3.143</td> <td> 0.002</td> <td>   -1.131</td> <td>   -0.256</td>\n",
       "</tr>\n",
       "<tr>\n",
       "  <th>x3</th>    <td>    0.6523</td> <td>    0.198</td> <td>    3.287</td> <td> 0.001</td> <td>    0.258</td> <td>    1.046</td>\n",
       "</tr>\n",
       "</table>\n",
       "<table class=\"simpletable\">\n",
       "<tr>\n",
       "  <th>Omnibus:</th>       <td>143.410</td> <th>  Durbin-Watson:     </th> <td>   0.375</td>\n",
       "</tr>\n",
       "<tr>\n",
       "  <th>Prob(Omnibus):</th> <td> 0.000</td>  <th>  Jarque-Bera (JB):  </th> <td>3596.035</td>\n",
       "</tr>\n",
       "<tr>\n",
       "  <th>Skew:</th>          <td>-5.365</td>  <th>  Prob(JB):          </th> <td>    0.00</td>\n",
       "</tr>\n",
       "<tr>\n",
       "  <th>Kurtosis:</th>      <td>30.348</td>  <th>  Cond. No.          </th> <td>    28.5</td>\n",
       "</tr>\n",
       "</table><br/><br/>Warnings:<br/>[1] Standard Errors assume that the covariance matrix of the errors is correctly specified."
      ],
      "text/plain": [
       "<class 'statsmodels.iolib.summary.Summary'>\n",
       "\"\"\"\n",
       "                            OLS Regression Results                            \n",
       "==============================================================================\n",
       "Dep. Variable:                 Target   R-squared:                       0.506\n",
       "Model:                            OLS   Adj. R-squared:                  0.491\n",
       "Method:                 Least Squares   F-statistic:                     32.84\n",
       "Date:                Sat, 22 Feb 2020   Prob (F-statistic):           1.08e-14\n",
       "Time:                        14:03:57   Log-Likelihood:                -326.89\n",
       "No. Observations:                 100   AIC:                             661.8\n",
       "Df Residuals:                      96   BIC:                             672.2\n",
       "Df Model:                           3                                         \n",
       "Covariance Type:            nonrobust                                         \n",
       "==============================================================================\n",
       "                 coef    std err          t      P>|t|      [0.025      0.975]\n",
       "------------------------------------------------------------------------------\n",
       "const         33.3719      1.991     16.763      0.000      29.420      37.324\n",
       "x1             1.9122      0.229      8.336      0.000       1.457       2.368\n",
       "x2            -0.6934      0.221     -3.143      0.002      -1.131      -0.256\n",
       "x3             0.6523      0.198      3.287      0.001       0.258       1.046\n",
       "==============================================================================\n",
       "Omnibus:                      143.410   Durbin-Watson:                   0.375\n",
       "Prob(Omnibus):                  0.000   Jarque-Bera (JB):             3596.035\n",
       "Skew:                          -5.365   Prob(JB):                         0.00\n",
       "Kurtosis:                      30.348   Cond. No.                         28.5\n",
       "==============================================================================\n",
       "\n",
       "Warnings:\n",
       "[1] Standard Errors assume that the covariance matrix of the errors is correctly specified.\n",
       "\"\"\""
      ]
     },
     "execution_count": 25,
     "metadata": {},
     "output_type": "execute_result"
    }
   ],
   "source": [
    "X_opt = data0_x[:, [0, 1, 2, 3]]    # At first, using all variables to check its significance\n",
    "regressor_OLS = sm.OLS(endog= data0_y, exog = X_opt).fit()\n",
    "regressor_OLS.summary()"
   ]
  },
  {
   "cell_type": "markdown",
   "metadata": {},
   "source": [
    "### Setting a significance level of 5% for the P-value, we can't remove any variable. "
   ]
  },
  {
   "cell_type": "markdown",
   "metadata": {},
   "source": [
    "#### Trying to remove the greatest P-value and check the Adj. R-squared value"
   ]
  },
  {
   "cell_type": "code",
   "execution_count": 26,
   "metadata": {},
   "outputs": [
    {
     "data": {
      "text/html": [
       "<table class=\"simpletable\">\n",
       "<caption>OLS Regression Results</caption>\n",
       "<tr>\n",
       "  <th>Dep. Variable:</th>         <td>Target</td>      <th>  R-squared:         </th> <td>   0.456</td>\n",
       "</tr>\n",
       "<tr>\n",
       "  <th>Model:</th>                   <td>OLS</td>       <th>  Adj. R-squared:    </th> <td>   0.444</td>\n",
       "</tr>\n",
       "<tr>\n",
       "  <th>Method:</th>             <td>Least Squares</td>  <th>  F-statistic:       </th> <td>   40.60</td>\n",
       "</tr>\n",
       "<tr>\n",
       "  <th>Date:</th>             <td>Sat, 22 Feb 2020</td> <th>  Prob (F-statistic):</th> <td>1.55e-13</td>\n",
       "</tr>\n",
       "<tr>\n",
       "  <th>Time:</th>                 <td>14:03:58</td>     <th>  Log-Likelihood:    </th> <td> -331.79</td>\n",
       "</tr>\n",
       "<tr>\n",
       "  <th>No. Observations:</th>      <td>   100</td>      <th>  AIC:               </th> <td>   669.6</td>\n",
       "</tr>\n",
       "<tr>\n",
       "  <th>Df Residuals:</th>          <td>    97</td>      <th>  BIC:               </th> <td>   677.4</td>\n",
       "</tr>\n",
       "<tr>\n",
       "  <th>Df Model:</th>              <td>     2</td>      <th>                     </th>     <td> </td>   \n",
       "</tr>\n",
       "<tr>\n",
       "  <th>Covariance Type:</th>      <td>nonrobust</td>    <th>                     </th>     <td> </td>   \n",
       "</tr>\n",
       "</table>\n",
       "<table class=\"simpletable\">\n",
       "<tr>\n",
       "    <td></td>       <th>coef</th>     <th>std err</th>      <th>t</th>      <th>P>|t|</th>  <th>[0.025</th>    <th>0.975]</th>  \n",
       "</tr>\n",
       "<tr>\n",
       "  <th>const</th> <td>   29.5351</td> <td>    1.643</td> <td>   17.974</td> <td> 0.000</td> <td>   26.274</td> <td>   32.796</td>\n",
       "</tr>\n",
       "<tr>\n",
       "  <th>x1</th>    <td>    1.8934</td> <td>    0.240</td> <td>    7.903</td> <td> 0.000</td> <td>    1.418</td> <td>    2.369</td>\n",
       "</tr>\n",
       "<tr>\n",
       "  <th>x2</th>    <td>    0.7303</td> <td>    0.206</td> <td>    3.551</td> <td> 0.001</td> <td>    0.322</td> <td>    1.139</td>\n",
       "</tr>\n",
       "</table>\n",
       "<table class=\"simpletable\">\n",
       "<tr>\n",
       "  <th>Omnibus:</th>       <td>136.943</td> <th>  Durbin-Watson:     </th> <td>   0.468</td>\n",
       "</tr>\n",
       "<tr>\n",
       "  <th>Prob(Omnibus):</th> <td> 0.000</td>  <th>  Jarque-Bera (JB):  </th> <td>3026.244</td>\n",
       "</tr>\n",
       "<tr>\n",
       "  <th>Skew:</th>          <td>-5.027</td>  <th>  Prob(JB):          </th> <td>    0.00</td>\n",
       "</tr>\n",
       "<tr>\n",
       "  <th>Kurtosis:</th>      <td>28.004</td>  <th>  Cond. No.          </th> <td>    18.9</td>\n",
       "</tr>\n",
       "</table><br/><br/>Warnings:<br/>[1] Standard Errors assume that the covariance matrix of the errors is correctly specified."
      ],
      "text/plain": [
       "<class 'statsmodels.iolib.summary.Summary'>\n",
       "\"\"\"\n",
       "                            OLS Regression Results                            \n",
       "==============================================================================\n",
       "Dep. Variable:                 Target   R-squared:                       0.456\n",
       "Model:                            OLS   Adj. R-squared:                  0.444\n",
       "Method:                 Least Squares   F-statistic:                     40.60\n",
       "Date:                Sat, 22 Feb 2020   Prob (F-statistic):           1.55e-13\n",
       "Time:                        14:03:58   Log-Likelihood:                -331.79\n",
       "No. Observations:                 100   AIC:                             669.6\n",
       "Df Residuals:                      97   BIC:                             677.4\n",
       "Df Model:                           2                                         \n",
       "Covariance Type:            nonrobust                                         \n",
       "==============================================================================\n",
       "                 coef    std err          t      P>|t|      [0.025      0.975]\n",
       "------------------------------------------------------------------------------\n",
       "const         29.5351      1.643     17.974      0.000      26.274      32.796\n",
       "x1             1.8934      0.240      7.903      0.000       1.418       2.369\n",
       "x2             0.7303      0.206      3.551      0.001       0.322       1.139\n",
       "==============================================================================\n",
       "Omnibus:                      136.943   Durbin-Watson:                   0.468\n",
       "Prob(Omnibus):                  0.000   Jarque-Bera (JB):             3026.244\n",
       "Skew:                          -5.027   Prob(JB):                         0.00\n",
       "Kurtosis:                      28.004   Cond. No.                         18.9\n",
       "==============================================================================\n",
       "\n",
       "Warnings:\n",
       "[1] Standard Errors assume that the covariance matrix of the errors is correctly specified.\n",
       "\"\"\""
      ]
     },
     "execution_count": 26,
     "metadata": {},
     "output_type": "execute_result"
    }
   ],
   "source": [
    "X_opt = data0_x[:, [0, 1, 3]]    # Removing the variable with the greatest P-value (2%) VAR2\n",
    "regressor_OLS = sm.OLS(endog= data0_y, exog = X_opt).fit()\n",
    "regressor_OLS.summary()"
   ]
  },
  {
   "cell_type": "markdown",
   "metadata": {},
   "source": [
    "## After removing the variable with the greatest P-value, the Adj. R-squared dropped from 0.49 to 0.44. Confirming that all the variables are necessary for this model."
   ]
  },
  {
   "cell_type": "markdown",
   "metadata": {},
   "source": [
    "# Analysis of the second data set"
   ]
  },
  {
   "cell_type": "markdown",
   "metadata": {},
   "source": [
    "## Task 1: assess the goodness of fit  of the regression model (Linear Regression)"
   ]
  },
  {
   "cell_type": "code",
   "execution_count": 27,
   "metadata": {},
   "outputs": [
    {
     "data": {
      "text/html": [
       "<div>\n",
       "<style scoped>\n",
       "    .dataframe tbody tr th:only-of-type {\n",
       "        vertical-align: middle;\n",
       "    }\n",
       "\n",
       "    .dataframe tbody tr th {\n",
       "        vertical-align: top;\n",
       "    }\n",
       "\n",
       "    .dataframe thead th {\n",
       "        text-align: right;\n",
       "    }\n",
       "</style>\n",
       "<table border=\"1\" class=\"dataframe\">\n",
       "  <thead>\n",
       "    <tr style=\"text-align: right;\">\n",
       "      <th></th>\n",
       "      <th>VAR1</th>\n",
       "      <th>VAR2</th>\n",
       "      <th>VAR3</th>\n",
       "      <th>Target</th>\n",
       "    </tr>\n",
       "  </thead>\n",
       "  <tbody>\n",
       "    <tr>\n",
       "      <th>0</th>\n",
       "      <td>8.337952</td>\n",
       "      <td>8.164432</td>\n",
       "      <td>7.700852</td>\n",
       "      <td>13.126079</td>\n",
       "    </tr>\n",
       "    <tr>\n",
       "      <th>1</th>\n",
       "      <td>7.903776</td>\n",
       "      <td>7.261817</td>\n",
       "      <td>1.494045</td>\n",
       "      <td>9.152330</td>\n",
       "    </tr>\n",
       "    <tr>\n",
       "      <th>2</th>\n",
       "      <td>3.086317</td>\n",
       "      <td>2.508536</td>\n",
       "      <td>2.344412</td>\n",
       "      <td>1.893645</td>\n",
       "    </tr>\n",
       "    <tr>\n",
       "      <th>3</th>\n",
       "      <td>5.361288</td>\n",
       "      <td>5.064384</td>\n",
       "      <td>6.066032</td>\n",
       "      <td>45.109134</td>\n",
       "    </tr>\n",
       "    <tr>\n",
       "      <th>4</th>\n",
       "      <td>3.393759</td>\n",
       "      <td>3.355542</td>\n",
       "      <td>9.493635</td>\n",
       "      <td>43.771897</td>\n",
       "    </tr>\n",
       "  </tbody>\n",
       "</table>\n",
       "</div>"
      ],
      "text/plain": [
       "       VAR1      VAR2      VAR3     Target\n",
       "0  8.337952  8.164432  7.700852  13.126079\n",
       "1  7.903776  7.261817  1.494045   9.152330\n",
       "2  3.086317  2.508536  2.344412   1.893645\n",
       "3  5.361288  5.064384  6.066032  45.109134\n",
       "4  3.393759  3.355542  9.493635  43.771897"
      ]
     },
     "execution_count": 27,
     "metadata": {},
     "output_type": "execute_result"
    }
   ],
   "source": [
    "data1_x = pd.read_csv('data1x.csv')\n",
    "data1_y = pd.read_csv('data1y.csv')\n",
    "df1 = pd.concat([data1_x, data1_y], axis = 1, sort = False)\n",
    "df1.head()"
   ]
  },
  {
   "cell_type": "code",
   "execution_count": 28,
   "metadata": {},
   "outputs": [
    {
     "data": {
      "text/html": [
       "<div>\n",
       "<style scoped>\n",
       "    .dataframe tbody tr th:only-of-type {\n",
       "        vertical-align: middle;\n",
       "    }\n",
       "\n",
       "    .dataframe tbody tr th {\n",
       "        vertical-align: top;\n",
       "    }\n",
       "\n",
       "    .dataframe thead th {\n",
       "        text-align: right;\n",
       "    }\n",
       "</style>\n",
       "<table border=\"1\" class=\"dataframe\">\n",
       "  <thead>\n",
       "    <tr style=\"text-align: right;\">\n",
       "      <th></th>\n",
       "      <th>VAR1</th>\n",
       "      <th>VAR2</th>\n",
       "      <th>VAR3</th>\n",
       "      <th>Target</th>\n",
       "    </tr>\n",
       "  </thead>\n",
       "  <tbody>\n",
       "    <tr>\n",
       "      <th>count</th>\n",
       "      <td>100.000000</td>\n",
       "      <td>100.000000</td>\n",
       "      <td>100.000000</td>\n",
       "      <td>100.000000</td>\n",
       "    </tr>\n",
       "    <tr>\n",
       "      <th>mean</th>\n",
       "      <td>5.145892</td>\n",
       "      <td>4.749056</td>\n",
       "      <td>4.741929</td>\n",
       "      <td>42.936693</td>\n",
       "    </tr>\n",
       "    <tr>\n",
       "      <th>std</th>\n",
       "      <td>2.858015</td>\n",
       "      <td>2.892978</td>\n",
       "      <td>3.329063</td>\n",
       "      <td>7.967095</td>\n",
       "    </tr>\n",
       "    <tr>\n",
       "      <th>min</th>\n",
       "      <td>-0.191760</td>\n",
       "      <td>-0.941284</td>\n",
       "      <td>-0.562067</td>\n",
       "      <td>1.893645</td>\n",
       "    </tr>\n",
       "    <tr>\n",
       "      <th>25%</th>\n",
       "      <td>2.963851</td>\n",
       "      <td>2.293272</td>\n",
       "      <td>1.707078</td>\n",
       "      <td>39.795770</td>\n",
       "    </tr>\n",
       "    <tr>\n",
       "      <th>50%</th>\n",
       "      <td>5.519984</td>\n",
       "      <td>5.032488</td>\n",
       "      <td>4.966498</td>\n",
       "      <td>43.814744</td>\n",
       "    </tr>\n",
       "    <tr>\n",
       "      <th>75%</th>\n",
       "      <td>7.410148</td>\n",
       "      <td>7.243423</td>\n",
       "      <td>7.751413</td>\n",
       "      <td>47.526571</td>\n",
       "    </tr>\n",
       "    <tr>\n",
       "      <th>max</th>\n",
       "      <td>9.977110</td>\n",
       "      <td>9.873541</td>\n",
       "      <td>9.999932</td>\n",
       "      <td>53.847796</td>\n",
       "    </tr>\n",
       "  </tbody>\n",
       "</table>\n",
       "</div>"
      ],
      "text/plain": [
       "             VAR1        VAR2        VAR3      Target\n",
       "count  100.000000  100.000000  100.000000  100.000000\n",
       "mean     5.145892    4.749056    4.741929   42.936693\n",
       "std      2.858015    2.892978    3.329063    7.967095\n",
       "min     -0.191760   -0.941284   -0.562067    1.893645\n",
       "25%      2.963851    2.293272    1.707078   39.795770\n",
       "50%      5.519984    5.032488    4.966498   43.814744\n",
       "75%      7.410148    7.243423    7.751413   47.526571\n",
       "max      9.977110    9.873541    9.999932   53.847796"
      ]
     },
     "execution_count": 28,
     "metadata": {},
     "output_type": "execute_result"
    }
   ],
   "source": [
    "df1.describe()"
   ]
  },
  {
   "cell_type": "code",
   "execution_count": 29,
   "metadata": {},
   "outputs": [
    {
     "data": {
      "text/plain": [
       "0.7135557617877095"
      ]
     },
     "execution_count": 29,
     "metadata": {},
     "output_type": "execute_result"
    }
   ],
   "source": [
    "regressor2 = LinearRegression(fit_intercept = True)\n",
    "regressor2.fit(data1_x, data1_y)\n",
    "\n",
    "cross_val_score2 = cross_val_score(estimator = regressor2, X = data1_x, y = data1_y, cv = 10).mean()\n",
    "cross_val_score2"
   ]
  },
  {
   "cell_type": "code",
   "execution_count": 30,
   "metadata": {},
   "outputs": [],
   "source": [
    "X_train2, X_test2, y_train2, y_test2 = train_test_split(data1_x, data1_y, test_size = 0.2, random_state = 0)\n",
    "regressor2.fit(X_train2, y_train2)\n",
    "y_pred2 = regressor2.predict(X_test2)\n",
    "r2_score2 = r2_score(y_test2, y_pred2)\n",
    "mse2 = mean_squared_error(y_test2, y_pred2)"
   ]
  },
  {
   "cell_type": "markdown",
   "metadata": {},
   "source": [
    "### Final evaluation"
   ]
  },
  {
   "cell_type": "code",
   "execution_count": 31,
   "metadata": {},
   "outputs": [
    {
     "data": {
      "text/plain": [
       "<matplotlib.axes._subplots.AxesSubplot at 0x29430d210b8>"
      ]
     },
     "execution_count": 31,
     "metadata": {},
     "output_type": "execute_result"
    },
    {
     "data": {
      "image/png": "[encoded data removed]",
      "text/plain": [
       "<Figure size 432x288 with 1 Axes>"
      ]
     },
     "metadata": {
      "needs_background": "light"
     },
     "output_type": "display_data"
    }
   ],
   "source": [
    "ax1 = sns.distplot(data1_y, color = 'r')\n",
    "sns.distplot(y_pred2, color = 'b', ax = ax1)"
   ]
  },
  {
   "cell_type": "code",
   "execution_count": 32,
   "metadata": {},
   "outputs": [
    {
     "data": {
      "text/html": [
       "<div>\n",
       "<style scoped>\n",
       "    .dataframe tbody tr th:only-of-type {\n",
       "        vertical-align: middle;\n",
       "    }\n",
       "\n",
       "    .dataframe tbody tr th {\n",
       "        vertical-align: top;\n",
       "    }\n",
       "\n",
       "    .dataframe thead th {\n",
       "        text-align: right;\n",
       "    }\n",
       "</style>\n",
       "<table border=\"1\" class=\"dataframe\">\n",
       "  <thead>\n",
       "    <tr style=\"text-align: right;\">\n",
       "      <th></th>\n",
       "      <th>Model</th>\n",
       "      <th>cross_val_score</th>\n",
       "      <th>r2 score</th>\n",
       "      <th>mse</th>\n",
       "    </tr>\n",
       "  </thead>\n",
       "  <tbody>\n",
       "    <tr>\n",
       "      <th>0</th>\n",
       "      <td>Linear Regression</td>\n",
       "      <td>0.713556</td>\n",
       "      <td>0.314942</td>\n",
       "      <td>74.541428</td>\n",
       "    </tr>\n",
       "  </tbody>\n",
       "</table>\n",
       "</div>"
      ],
      "text/plain": [
       "               Model  cross_val_score  r2 score        mse\n",
       "0  Linear Regression         0.713556  0.314942  74.541428"
      ]
     },
     "execution_count": 32,
     "metadata": {},
     "output_type": "execute_result"
    }
   ],
   "source": [
    "scoreFrame2 = pd.DataFrame([['Linear Regression', cross_val_score2, r2_score2, mse2]], \n",
    "                          columns = ['Model', 'cross_val_score', 'r2 score', 'mse'])\n",
    "scoreFrame2"
   ]
  },
  {
   "cell_type": "code",
   "execution_count": 33,
   "metadata": {},
   "outputs": [
    {
     "name": "stdout",
     "output_type": "stream",
     "text": [
      "Coeficients of the Linear Regression: [[ 1357214.33442669 -1357213.06141138   102431.73984147]] \n",
      "Constant: [-1024277.90613683] \n"
     ]
    }
   ],
   "source": [
    "print(\"Coeficients of the Linear Regression: {} \" .format(regressor2.coef_))\n",
    "print(\"Constant: {} \" .format(regressor2.intercept_))"
   ]
  },
  {
   "cell_type": "markdown",
   "metadata": {},
   "source": [
    "# Task 2: are all the variables necessary?  why or why not? if not how would you eliminate variables?"
   ]
  },
  {
   "cell_type": "code",
   "execution_count": 34,
   "metadata": {},
   "outputs": [
    {
     "data": {
      "text/plain": [
       "<matplotlib.axes._subplots.AxesSubplot at 0x29431c3a630>"
      ]
     },
     "execution_count": 34,
     "metadata": {},
     "output_type": "execute_result"
    },
    {
     "data": {
      "image/png": "[encoded data removed]",
      "text/plain": [
       "<Figure size 432x288 with 2 Axes>"
      ]
     },
     "metadata": {
      "needs_background": "light"
     },
     "output_type": "display_data"
    }
   ],
   "source": [
    "sns.heatmap(df1.corr(), vmin=-1, center = 0) \n",
    "# Looking at the heatmap, it looks like all the variables have a significant correlation with the target variable\n",
    "# positive correlated for all of them                        "
   ]
  },
  {
   "cell_type": "code",
   "execution_count": 35,
   "metadata": {},
   "outputs": [],
   "source": [
    "data1_x = np.append(arr = np.ones((data1_x.shape[0], 1)).astype(int), values = data1_x, axis = 1)"
   ]
  },
  {
   "cell_type": "code",
   "execution_count": 36,
   "metadata": {},
   "outputs": [
    {
     "name": "stdout",
     "output_type": "stream",
     "text": [
      "[1.       8.337952 8.164432 7.700852]\n",
      "[1.       7.903776 7.261817 1.494045]\n",
      "[1.       3.086317 2.508536 2.344412]\n",
      "[1.       5.361288 5.064384 6.066032]\n",
      "[1.       3.393759 3.355542 9.493635]\n"
     ]
    }
   ],
   "source": [
    "for i in range(0, 5):\n",
    "    print(data1_x[i])"
   ]
  },
  {
   "cell_type": "code",
   "execution_count": 37,
   "metadata": {},
   "outputs": [
    {
     "data": {
      "text/html": [
       "<table class=\"simpletable\">\n",
       "<caption>OLS Regression Results</caption>\n",
       "<tr>\n",
       "  <th>Dep. Variable:</th>         <td>Target</td>      <th>  R-squared:         </th> <td>   0.351</td>\n",
       "</tr>\n",
       "<tr>\n",
       "  <th>Model:</th>                   <td>OLS</td>       <th>  Adj. R-squared:    </th> <td>   0.331</td>\n",
       "</tr>\n",
       "<tr>\n",
       "  <th>Method:</th>             <td>Least Squares</td>  <th>  F-statistic:       </th> <td>   17.32</td>\n",
       "</tr>\n",
       "<tr>\n",
       "  <th>Date:</th>             <td>Sat, 22 Feb 2020</td> <th>  Prob (F-statistic):</th> <td>4.55e-09</td>\n",
       "</tr>\n",
       "<tr>\n",
       "  <th>Time:</th>                 <td>14:04:04</td>     <th>  Log-Likelihood:    </th> <td> -327.29</td>\n",
       "</tr>\n",
       "<tr>\n",
       "  <th>No. Observations:</th>      <td>   100</td>      <th>  AIC:               </th> <td>   662.6</td>\n",
       "</tr>\n",
       "<tr>\n",
       "  <th>Df Residuals:</th>          <td>    96</td>      <th>  BIC:               </th> <td>   673.0</td>\n",
       "</tr>\n",
       "<tr>\n",
       "  <th>Df Model:</th>              <td>     3</td>      <th>                     </th>     <td> </td>   \n",
       "</tr>\n",
       "<tr>\n",
       "  <th>Covariance Type:</th>      <td>nonrobust</td>    <th>                     </th>     <td> </td>   \n",
       "</tr>\n",
       "</table>\n",
       "<table class=\"simpletable\">\n",
       "<tr>\n",
       "    <td></td>       <th>coef</th>     <th>std err</th>      <th>t</th>      <th>P>|t|</th>  <th>[0.025</th>    <th>0.975]</th>  \n",
       "</tr>\n",
       "<tr>\n",
       "  <th>const</th> <td> 4.496e+04</td> <td> 1.13e+06</td> <td>    0.040</td> <td> 0.968</td> <td>-2.19e+06</td> <td> 2.28e+06</td>\n",
       "</tr>\n",
       "<tr>\n",
       "  <th>x1</th>    <td>-5.953e+04</td> <td> 1.49e+06</td> <td>   -0.040</td> <td> 0.968</td> <td>-3.02e+06</td> <td>  2.9e+06</td>\n",
       "</tr>\n",
       "<tr>\n",
       "  <th>x2</th>    <td> 5.953e+04</td> <td> 1.49e+06</td> <td>    0.040</td> <td> 0.968</td> <td> -2.9e+06</td> <td> 3.02e+06</td>\n",
       "</tr>\n",
       "<tr>\n",
       "  <th>x3</th>    <td>-4492.2921</td> <td> 1.13e+05</td> <td>   -0.040</td> <td> 0.968</td> <td>-2.28e+05</td> <td> 2.19e+05</td>\n",
       "</tr>\n",
       "</table>\n",
       "<table class=\"simpletable\">\n",
       "<tr>\n",
       "  <th>Omnibus:</th>       <td>144.603</td> <th>  Durbin-Watson:     </th> <td>   0.368</td>\n",
       "</tr>\n",
       "<tr>\n",
       "  <th>Prob(Omnibus):</th> <td> 0.000</td>  <th>  Jarque-Bera (JB):  </th> <td>3710.168</td>\n",
       "</tr>\n",
       "<tr>\n",
       "  <th>Skew:</th>          <td>-5.429</td>  <th>  Prob(JB):          </th> <td>    0.00</td>\n",
       "</tr>\n",
       "<tr>\n",
       "  <th>Kurtosis:</th>      <td>30.795</td>  <th>  Cond. No.          </th> <td>3.46e+07</td>\n",
       "</tr>\n",
       "</table><br/><br/>Warnings:<br/>[1] Standard Errors assume that the covariance matrix of the errors is correctly specified.<br/>[2] The smallest eigenvalue is 7.41e-12. This might indicate that there are<br/>strong multicollinearity problems or that the design matrix is singular."
      ],
      "text/plain": [
       "<class 'statsmodels.iolib.summary.Summary'>\n",
       "\"\"\"\n",
       "                            OLS Regression Results                            \n",
       "==============================================================================\n",
       "Dep. Variable:                 Target   R-squared:                       0.351\n",
       "Model:                            OLS   Adj. R-squared:                  0.331\n",
       "Method:                 Least Squares   F-statistic:                     17.32\n",
       "Date:                Sat, 22 Feb 2020   Prob (F-statistic):           4.55e-09\n",
       "Time:                        14:04:04   Log-Likelihood:                -327.29\n",
       "No. Observations:                 100   AIC:                             662.6\n",
       "Df Residuals:                      96   BIC:                             673.0\n",
       "Df Model:                           3                                         \n",
       "Covariance Type:            nonrobust                                         \n",
       "==============================================================================\n",
       "                 coef    std err          t      P>|t|      [0.025      0.975]\n",
       "------------------------------------------------------------------------------\n",
       "const       4.496e+04   1.13e+06      0.040      0.968   -2.19e+06    2.28e+06\n",
       "x1         -5.953e+04   1.49e+06     -0.040      0.968   -3.02e+06     2.9e+06\n",
       "x2          5.953e+04   1.49e+06      0.040      0.968    -2.9e+06    3.02e+06\n",
       "x3         -4492.2921   1.13e+05     -0.040      0.968   -2.28e+05    2.19e+05\n",
       "==============================================================================\n",
       "Omnibus:                      144.603   Durbin-Watson:                   0.368\n",
       "Prob(Omnibus):                  0.000   Jarque-Bera (JB):             3710.168\n",
       "Skew:                          -5.429   Prob(JB):                         0.00\n",
       "Kurtosis:                      30.795   Cond. No.                     3.46e+07\n",
       "==============================================================================\n",
       "\n",
       "Warnings:\n",
       "[1] Standard Errors assume that the covariance matrix of the errors is correctly specified.\n",
       "[2] The smallest eigenvalue is 7.41e-12. This might indicate that there are\n",
       "strong multicollinearity problems or that the design matrix is singular.\n",
       "\"\"\""
      ]
     },
     "execution_count": 37,
     "metadata": {},
     "output_type": "execute_result"
    }
   ],
   "source": [
    "X_opt2 = data1_x[:, [0, 1, 2, 3]]    # At first, using all variables to check its significance\n",
    "regressor_OLS2 = sm.OLS(endog= data1_y, exog = X_opt2).fit()\n",
    "regressor_OLS2.summary()"
   ]
  },
  {
   "cell_type": "markdown",
   "metadata": {},
   "source": [
    "### The p-values are the same and very high. Removing randomly one of them and acessing the summary again"
   ]
  },
  {
   "cell_type": "code",
   "execution_count": 38,
   "metadata": {},
   "outputs": [
    {
     "data": {
      "text/html": [
       "<table class=\"simpletable\">\n",
       "<caption>OLS Regression Results</caption>\n",
       "<tr>\n",
       "  <th>Dep. Variable:</th>         <td>Target</td>      <th>  R-squared:         </th> <td>   0.351</td>\n",
       "</tr>\n",
       "<tr>\n",
       "  <th>Model:</th>                   <td>OLS</td>       <th>  Adj. R-squared:    </th> <td>   0.338</td>\n",
       "</tr>\n",
       "<tr>\n",
       "  <th>Method:</th>             <td>Least Squares</td>  <th>  F-statistic:       </th> <td>   26.26</td>\n",
       "</tr>\n",
       "<tr>\n",
       "  <th>Date:</th>             <td>Sat, 22 Feb 2020</td> <th>  Prob (F-statistic):</th> <td>7.71e-10</td>\n",
       "</tr>\n",
       "<tr>\n",
       "  <th>Time:</th>                 <td>14:04:04</td>     <th>  Log-Likelihood:    </th> <td> -327.29</td>\n",
       "</tr>\n",
       "<tr>\n",
       "  <th>No. Observations:</th>      <td>   100</td>      <th>  AIC:               </th> <td>   660.6</td>\n",
       "</tr>\n",
       "<tr>\n",
       "  <th>Df Residuals:</th>          <td>    97</td>      <th>  BIC:               </th> <td>   668.4</td>\n",
       "</tr>\n",
       "<tr>\n",
       "  <th>Df Model:</th>              <td>     2</td>      <th>                     </th>     <td> </td>   \n",
       "</tr>\n",
       "<tr>\n",
       "  <th>Covariance Type:</th>      <td>nonrobust</td>    <th>                     </th>     <td> </td>   \n",
       "</tr>\n",
       "</table>\n",
       "<table class=\"simpletable\">\n",
       "<tr>\n",
       "    <td></td>       <th>coef</th>     <th>std err</th>      <th>t</th>      <th>P>|t|</th>  <th>[0.025</th>    <th>0.975]</th>  \n",
       "</tr>\n",
       "<tr>\n",
       "  <th>const</th> <td>   39.0423</td> <td>    1.764</td> <td>   22.130</td> <td> 0.000</td> <td>   35.541</td> <td>   42.544</td>\n",
       "</tr>\n",
       "<tr>\n",
       "  <th>x1</th>    <td>   -7.0241</td> <td>    2.637</td> <td>   -2.663</td> <td> 0.009</td> <td>  -12.258</td> <td>   -1.790</td>\n",
       "</tr>\n",
       "<tr>\n",
       "  <th>x2</th>    <td>    8.4310</td> <td>    2.605</td> <td>    3.236</td> <td> 0.002</td> <td>    3.260</td> <td>   13.602</td>\n",
       "</tr>\n",
       "</table>\n",
       "<table class=\"simpletable\">\n",
       "<tr>\n",
       "  <th>Omnibus:</th>       <td>144.608</td> <th>  Durbin-Watson:     </th> <td>   0.368</td>\n",
       "</tr>\n",
       "<tr>\n",
       "  <th>Prob(Omnibus):</th> <td> 0.000</td>  <th>  Jarque-Bera (JB):  </th> <td>3710.766</td>\n",
       "</tr>\n",
       "<tr>\n",
       "  <th>Skew:</th>          <td>-5.429</td>  <th>  Prob(JB):          </th> <td>    0.00</td>\n",
       "</tr>\n",
       "<tr>\n",
       "  <th>Kurtosis:</th>      <td>30.797</td>  <th>  Cond. No.          </th> <td>    49.1</td>\n",
       "</tr>\n",
       "</table><br/><br/>Warnings:<br/>[1] Standard Errors assume that the covariance matrix of the errors is correctly specified."
      ],
      "text/plain": [
       "<class 'statsmodels.iolib.summary.Summary'>\n",
       "\"\"\"\n",
       "                            OLS Regression Results                            \n",
       "==============================================================================\n",
       "Dep. Variable:                 Target   R-squared:                       0.351\n",
       "Model:                            OLS   Adj. R-squared:                  0.338\n",
       "Method:                 Least Squares   F-statistic:                     26.26\n",
       "Date:                Sat, 22 Feb 2020   Prob (F-statistic):           7.71e-10\n",
       "Time:                        14:04:04   Log-Likelihood:                -327.29\n",
       "No. Observations:                 100   AIC:                             660.6\n",
       "Df Residuals:                      97   BIC:                             668.4\n",
       "Df Model:                           2                                         \n",
       "Covariance Type:            nonrobust                                         \n",
       "==============================================================================\n",
       "                 coef    std err          t      P>|t|      [0.025      0.975]\n",
       "------------------------------------------------------------------------------\n",
       "const         39.0423      1.764     22.130      0.000      35.541      42.544\n",
       "x1            -7.0241      2.637     -2.663      0.009     -12.258      -1.790\n",
       "x2             8.4310      2.605      3.236      0.002       3.260      13.602\n",
       "==============================================================================\n",
       "Omnibus:                      144.608   Durbin-Watson:                   0.368\n",
       "Prob(Omnibus):                  0.000   Jarque-Bera (JB):             3710.766\n",
       "Skew:                          -5.429   Prob(JB):                         0.00\n",
       "Kurtosis:                      30.797   Cond. No.                         49.1\n",
       "==============================================================================\n",
       "\n",
       "Warnings:\n",
       "[1] Standard Errors assume that the covariance matrix of the errors is correctly specified.\n",
       "\"\"\""
      ]
     },
     "execution_count": 38,
     "metadata": {},
     "output_type": "execute_result"
    }
   ],
   "source": [
    "X_opt2 = data1_x[:, [0, 1, 2]]    \n",
    "regressor_OLS2 = sm.OLS(endog= data1_y, exog = X_opt2).fit()\n",
    "regressor_OLS2.summary()"
   ]
  },
  {
   "cell_type": "markdown",
   "metadata": {},
   "source": [
    "### Eliminating the variable of index 3, we could incresce the Adj. R-squared from 0.331 to 0.338\n",
    "### The variable x1 now has the greatest p-value of 0.009 which is less than the threshold of 5%. \n",
    "### If we remove any variable of this model, the Adj. R-squared will start dropping."
   ]
  },
  {
   "cell_type": "code",
   "execution_count": 39,
   "metadata": {},
   "outputs": [
    {
     "data": {
      "text/html": [
       "<table class=\"simpletable\">\n",
       "<caption>OLS Regression Results</caption>\n",
       "<tr>\n",
       "  <th>Dep. Variable:</th>         <td>Target</td>      <th>  R-squared:         </th> <td>   0.304</td>\n",
       "</tr>\n",
       "<tr>\n",
       "  <th>Model:</th>                   <td>OLS</td>       <th>  Adj. R-squared:    </th> <td>   0.297</td>\n",
       "</tr>\n",
       "<tr>\n",
       "  <th>Method:</th>             <td>Least Squares</td>  <th>  F-statistic:       </th> <td>   42.76</td>\n",
       "</tr>\n",
       "<tr>\n",
       "  <th>Date:</th>             <td>Sat, 22 Feb 2020</td> <th>  Prob (F-statistic):</th> <td>2.81e-09</td>\n",
       "</tr>\n",
       "<tr>\n",
       "  <th>Time:</th>                 <td>14:04:05</td>     <th>  Log-Likelihood:    </th> <td> -330.82</td>\n",
       "</tr>\n",
       "<tr>\n",
       "  <th>No. Observations:</th>      <td>   100</td>      <th>  AIC:               </th> <td>   665.6</td>\n",
       "</tr>\n",
       "<tr>\n",
       "  <th>Df Residuals:</th>          <td>    98</td>      <th>  BIC:               </th> <td>   670.8</td>\n",
       "</tr>\n",
       "<tr>\n",
       "  <th>Df Model:</th>              <td>     1</td>      <th>                     </th>     <td> </td>   \n",
       "</tr>\n",
       "<tr>\n",
       "  <th>Covariance Type:</th>      <td>nonrobust</td>    <th>                     </th>     <td> </td>   \n",
       "</tr>\n",
       "</table>\n",
       "<table class=\"simpletable\">\n",
       "<tr>\n",
       "    <td></td>       <th>coef</th>     <th>std err</th>      <th>t</th>      <th>P>|t|</th>  <th>[0.025</th>    <th>0.975]</th>  \n",
       "</tr>\n",
       "<tr>\n",
       "  <th>const</th> <td>   35.7284</td> <td>    1.289</td> <td>   27.717</td> <td> 0.000</td> <td>   33.170</td> <td>   38.286</td>\n",
       "</tr>\n",
       "<tr>\n",
       "  <th>x1</th>    <td>    1.5178</td> <td>    0.232</td> <td>    6.539</td> <td> 0.000</td> <td>    1.057</td> <td>    1.978</td>\n",
       "</tr>\n",
       "</table>\n",
       "<table class=\"simpletable\">\n",
       "<tr>\n",
       "  <th>Omnibus:</th>       <td>139.029</td> <th>  Durbin-Watson:     </th> <td>   0.449</td>\n",
       "</tr>\n",
       "<tr>\n",
       "  <th>Prob(Omnibus):</th> <td> 0.000</td>  <th>  Jarque-Bera (JB):  </th> <td>3207.393</td>\n",
       "</tr>\n",
       "<tr>\n",
       "  <th>Skew:</th>          <td>-5.133</td>  <th>  Prob(JB):          </th> <td>    0.00</td>\n",
       "</tr>\n",
       "<tr>\n",
       "  <th>Kurtosis:</th>      <td>28.776</td>  <th>  Cond. No.          </th> <td>    11.0</td>\n",
       "</tr>\n",
       "</table><br/><br/>Warnings:<br/>[1] Standard Errors assume that the covariance matrix of the errors is correctly specified."
      ],
      "text/plain": [
       "<class 'statsmodels.iolib.summary.Summary'>\n",
       "\"\"\"\n",
       "                            OLS Regression Results                            \n",
       "==============================================================================\n",
       "Dep. Variable:                 Target   R-squared:                       0.304\n",
       "Model:                            OLS   Adj. R-squared:                  0.297\n",
       "Method:                 Least Squares   F-statistic:                     42.76\n",
       "Date:                Sat, 22 Feb 2020   Prob (F-statistic):           2.81e-09\n",
       "Time:                        14:04:05   Log-Likelihood:                -330.82\n",
       "No. Observations:                 100   AIC:                             665.6\n",
       "Df Residuals:                      98   BIC:                             670.8\n",
       "Df Model:                           1                                         \n",
       "Covariance Type:            nonrobust                                         \n",
       "==============================================================================\n",
       "                 coef    std err          t      P>|t|      [0.025      0.975]\n",
       "------------------------------------------------------------------------------\n",
       "const         35.7284      1.289     27.717      0.000      33.170      38.286\n",
       "x1             1.5178      0.232      6.539      0.000       1.057       1.978\n",
       "==============================================================================\n",
       "Omnibus:                      139.029   Durbin-Watson:                   0.449\n",
       "Prob(Omnibus):                  0.000   Jarque-Bera (JB):             3207.393\n",
       "Skew:                          -5.133   Prob(JB):                         0.00\n",
       "Kurtosis:                      28.776   Cond. No.                         11.0\n",
       "==============================================================================\n",
       "\n",
       "Warnings:\n",
       "[1] Standard Errors assume that the covariance matrix of the errors is correctly specified.\n",
       "\"\"\""
      ]
     },
     "execution_count": 39,
     "metadata": {},
     "output_type": "execute_result"
    }
   ],
   "source": [
    "X_opt2 = data1_x[:, [0, 2]]    \n",
    "regressor_OLS2 = sm.OLS(endog= data1_y, exog = X_opt2).fit()\n",
    "regressor_OLS2.summary()"
   ]
  },
  {
   "cell_type": "markdown",
   "metadata": {},
   "source": [
    "### As expected, it dropeed from 0.331 to 0.297. Thus, the previous set of variables, describe better the model. "
   ]
  },
  {
   "cell_type": "markdown",
   "metadata": {},
   "source": [
    "# Task 3: are the regressions statistically significant? explain what this means"
   ]
  },
  {
   "cell_type": "markdown",
   "metadata": {},
   "source": [
    "### The regression aren't statistically significant since its r2 scores are low, 0.5 for the first dataset and 0.3 for the second dataset. Thus, it is difficult to create a trustable model with such a small dataset of only 100 rows. To build a robust and trustable model, a larger dataset is necessary. "
   ]
  },
  {
   "cell_type": "code",
   "execution_count": null,
   "metadata": {},
   "outputs": [],
   "source": []
  },
  {
   "cell_type": "code",
   "execution_count": null,
   "metadata": {},
   "outputs": [],
   "source": []
  }
 ],
 "metadata": {
  "kernelspec": {
   "display_name": "Python 3",
   "language": "python",
   "name": "python3"
  },
  "language_info": {
   "codemirror_mode": {
    "name": "ipython",
    "version": 3
   },
   "file_extension": ".py",
   "mimetype": "text/x-python",
   "name": "python",
   "nbconvert_exporter": "python",
   "pygments_lexer": "ipython3",
   "version": "3.7.3"
  }
 },
 "nbformat": 4,
 "nbformat_minor": 2
}
